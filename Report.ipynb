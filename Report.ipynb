{
 "cells": [
  {
   "cell_type": "markdown",
   "metadata": {
    "collapsed": true,
    "pycharm": {
     "name": "#%% md\n"
    }
   },
   "source": [
    "# Pose Model Tracking in Babybrain Dataset\n",
    "\n",
    "## Loading COCO-format Annotations\n",
    "We transformed VIA-VGG 3.0.4 Video Annotations to COCO format using mybabybrain-database repository. Now let's load \n",
    "a subset of data from normal and abnormal class."
   ]
  },
  {
   "cell_type": "code",
   "execution_count": 1,
   "outputs": [],
   "source": [
    "from qol import load_annotations\n",
    "\n",
    "\n",
    "# load annotations\n",
    "annotation_folder = '/home/harrisonford/Documents/babybrain-coco/'\n",
    "normal_set = ['000345']\n",
    "abnormal_set = ['000845']\n",
    "suffix = ''\n",
    "normal_annotations = [load_annotations(annotation_folder + a_file + suffix + '_coco.json') for a_file in normal_set]\n",
    "abnormal_annotations = [load_annotations(annotation_folder + a_file + suffix + '_coco.json') for a_file in abnormal_set]"
   ],
   "metadata": {
    "collapsed": false,
    "pycharm": {
     "name": "#%%\n",
     "is_executing": false
    }
   }
  },
  {
   "cell_type": "markdown",
   "source": [
    "## Loading video frames \n",
    "Load video frames annotated in files"
   ],
   "metadata": {
    "collapsed": false,
    "pycharm": {
     "name": "#%% md\n"
    }
   }
  },
  {
   "cell_type": "code",
   "execution_count": 2,
   "outputs": [],
   "source": [
    "from qol import times_to_frames, get_frames_from\n",
    "\n",
    "\n",
    "video_folder = '/home/harrisonford/Videos/babybrain/'\n",
    "# extract times (id) to load from annotations, so we can load frames later\n",
    "normal_frames = [[image_dict['id'] for image_dict in annotation['images']] for annotation in normal_annotations]\n",
    "abnormal_frames = [[image_dict['id'] for image_dict in annotation['images']] for annotation in abnormal_annotations]\n",
    "\n",
    "# transform each time id to frame id\n",
    "frame_ids_normal = [times_to_frames(ids) for ids in normal_frames]\n",
    "frame_ids_abnormal = [times_to_frames(ids) for ids in abnormal_frames]\n",
    "\n",
    "# get the frames from video, this takes a while\n",
    "normal_images = [get_frames_from(video_folder + video + '.MP4', frame_list, threshold=1) \n",
    "                          for (video, frame_list) in zip(normal_set, frame_ids_normal)]\n",
    "abnormal_images = [get_frames_from(video_folder + video + '.MP4', frame_list, threshold=1) \n",
    "                            for (video, frame_list) in zip(abnormal_set, frame_ids_abnormal)]"
   ],
   "metadata": {
    "collapsed": false,
    "pycharm": {
     "name": "#%%\n",
     "is_executing": false
    }
   }
  },
  {
   "cell_type": "markdown",
   "source": [
    "## Using PoseEstimation and HumanPose models on images"
   ],
   "metadata": {
    "collapsed": false,
    "pycharm": {
     "name": "#%% md\n"
    }
   }
  },
  {
   "cell_type": "code",
   "execution_count": 5,
   "outputs": [
    {
     "name": "stderr",
     "text": [
      "[2019-09-25 09:16:49,588] [TfPoseEstimator] [INFO] loading graph from /home/harrisonford/PycharmProjects/mybabybrain-model/PoseEstimation/models/graph/cmu/graph_opt.pb(default size=432x368)\n",
      "I0925 09:16:49.588136 140720066127680 estimator.py:308] loading graph from /home/harrisonford/PycharmProjects/mybabybrain-model/PoseEstimation/models/graph/cmu/graph_opt.pb(default size=432x368)\n"
     ],
     "output_type": "stream"
    },
    {
     "data": {
      "text/plain": "<Figure size 432x288 with 1 Axes>",
      "image/png": "[encoded data removed]"
     },
     "metadata": {},
     "output_type": "display_data"
    }
   ],
   "source": [
    "from poseModels import PoseEstimationModel, HumanPoseModel\n",
    "import tensorflow as tf\n",
    "import timeit\n",
    "import pandas as pd\n",
    "import seaborn as sns\n",
    "import matplotlib.pyplot as plt\n",
    "\n",
    "\n",
    "tf.reset_default_graph()\n",
    "pose_model = PoseEstimationModel()\n",
    "id_list = []\n",
    "times = []\n",
    "\n",
    "# use pose model\n",
    "for a_video_container, video_ids in zip(normal_images + abnormal_images, normal_frames + abnormal_frames):\n",
    "    for an_image, an_id in zip(a_video_container, video_ids):\n",
    "        tic = timeit.default_timer()\n",
    "        pose_model.outputs.append(pose_model._run_model_once(an_image))\n",
    "        toc = timeit.default_timer()\n",
    "        times.append([toc - tic, 'PoseEst'])\n",
    "        id_list.append(an_id)\n",
    "# save tracking in coco format\n",
    "output_json = '/home/harrisonford/Documents/coco_pose_model.json'\n",
    "pose_model.save_as_coco_result(output_json, id_vector=id_list)\n",
    "\n",
    "# now use the other model\n",
    "tf.reset_default_graph()\n",
    "human_model = HumanPoseModel()\n",
    "for a_video_container, video_ids in zip(normal_images + abnormal_images, normal_frames + abnormal_frames):\n",
    "    for an_image, an_id in zip(a_video_container, video_ids):\n",
    "        tic = timeit.default_timer()\n",
    "        human_model.outputs.append(human_model._run_model_once(an_image))\n",
    "        toc = timeit.default_timer()\n",
    "        times.append([toc - tic, 'HumanPose'])\n",
    "output_json = '/home/harrisonford/Documents/coco_human_model.json'\n",
    "human_model.save_as_coco_result(output_json, id_vector=id_list)\n",
    "\n",
    "# plot avg computation time for each model\n",
    "df = pd.DataFrame(times, columns=['time', 'model'])\n",
    "sns.set(\"paper\")\n",
    "ax = sns.barplot(x='model', y='time', data=df)\n",
    "plt.savefig('/home/harrisonford/Desktop/temp.png', dpi=1000)\n",
    "plt.show()"
   ],
   "metadata": {
    "collapsed": false,
    "pycharm": {
     "name": "#%%\n",
     "is_executing": false
    }
   }
  },
  {
   "cell_type": "markdown",
   "source": [
    "## Check Center of Gravity movement\n",
    "\n",
    "Calculating this may give us a hint about the movement patterns."
   ],
   "metadata": {
    "collapsed": false,
    "pycharm": {
     "name": "#%% md\n"
    }
   }
  },
  {
   "cell_type": "code",
   "execution_count": 8,
   "outputs": [
    {
     "data": {
      "text/plain": "<Figure size 432x288 with 1 Axes>",
      "image/png": "[encoded data removed]"
     },
     "metadata": {
      "needs_background": "light"
     },
     "output_type": "display_data"
    }
   ],
   "source": [
    "import numpy as np\n",
    "import matplotlib.pyplot as plt\n",
    "\n",
    "\n",
    "# from the pose model outputs calculate mean center of gravity for each sample\n",
    "center_of_gravities_x = []\n",
    "center_of_gravities_y = []\n",
    "for an_output in pose_model.outputs:\n",
    "    x_values = []\n",
    "    y_values = []\n",
    "    for a_part in an_output.body_parts.values():  # stack x-y\n",
    "        x_values.append(a_part.x)\n",
    "        y_values.append(a_part.y)\n",
    "    center_of_gravities_x.append(np.mean(x_values))\n",
    "    center_of_gravities_y.append(np.mean(y_values))\n",
    "\n",
    "# now plot it\n",
    "plt.scatter(center_of_gravities_x, center_of_gravities_y, alpha=0.5)\n",
    "plt.show()"
   ],
   "metadata": {
    "collapsed": false,
    "pycharm": {
     "name": "#%% \n",
     "is_executing": false
    }
   }
  },
  {
   "cell_type": "markdown",
   "source": [
    "## Checking model performances"
   ],
   "metadata": {
    "collapsed": false,
    "pycharm": {
     "name": "#%% md\n"
    }
   }
  },
  {
   "cell_type": "code",
   "execution_count": 5,
   "outputs": [
    {
     "traceback": [
      "\u001b[0;31m---------------------------------------------------------------------------\u001b[0m",
      "\u001b[0;31mKeyboardInterrupt\u001b[0m                         Traceback (most recent call last)",
      "\u001b[0;32m<ipython-input-5-8232361fc6f4>\u001b[0m in \u001b[0;36m<module>\u001b[0;34m\u001b[0m\n\u001b[1;32m      9\u001b[0m \u001b[0;31m# calculate curve performance\u001b[0m\u001b[0;34m\u001b[0m\u001b[0;34m\u001b[0m\u001b[0;34m\u001b[0m\u001b[0m\n\u001b[1;32m     10\u001b[0m \u001b[0mdistances_normal\u001b[0m\u001b[0;34m,\u001b[0m \u001b[0mvisible_normal\u001b[0m \u001b[0;34m=\u001b[0m\u001b[0;31m \u001b[0m\u001b[0;31m\\\u001b[0m\u001b[0;34m\u001b[0m\u001b[0;34m\u001b[0m\u001b[0m\n\u001b[0;32m---> 11\u001b[0;31m     \u001b[0mcompute_error\u001b[0m\u001b[0;34m(\u001b[0m\u001b[0moutput_json\u001b[0m\u001b[0;34m,\u001b[0m \u001b[0mannotation_folder\u001b[0m \u001b[0;34m+\u001b[0m \u001b[0mnormal_set\u001b[0m\u001b[0;34m[\u001b[0m\u001b[0;36m0\u001b[0m\u001b[0;34m]\u001b[0m \u001b[0;34m+\u001b[0m \u001b[0msuffix\u001b[0m \u001b[0;34m+\u001b[0m\u001b[0;34m'_coco.json'\u001b[0m\u001b[0;34m,\u001b[0m \u001b[0mnormalize\u001b[0m\u001b[0;34m=\u001b[0m\u001b[0;34m'body'\u001b[0m\u001b[0;34m)\u001b[0m\u001b[0;34m\u001b[0m\u001b[0;34m\u001b[0m\u001b[0m\n\u001b[0m\u001b[1;32m     12\u001b[0m \u001b[0;34m\u001b[0m\u001b[0m\n\u001b[1;32m     13\u001b[0m \u001b[0mdistances_abnormal\u001b[0m\u001b[0;34m,\u001b[0m \u001b[0mvisible_abnormal\u001b[0m \u001b[0;34m=\u001b[0m\u001b[0;31m \u001b[0m\u001b[0;31m\\\u001b[0m\u001b[0;34m\u001b[0m\u001b[0;34m\u001b[0m\u001b[0m\n",
      "\u001b[0;32m~/PycharmProjects/mybabybrain-model/qol.py\u001b[0m in \u001b[0;36mcompute_error\u001b[0;34m(dt_path, gt_path, normalize, threshold)\u001b[0m\n\u001b[1;32m    143\u001b[0m \u001b[0;34m\u001b[0m\u001b[0m\n\u001b[1;32m    144\u001b[0m     \u001b[0;31m# get keypoints as np array from dt and gt and calculate distances\u001b[0m\u001b[0;34m\u001b[0m\u001b[0;34m\u001b[0m\u001b[0;34m\u001b[0m\u001b[0m\n\u001b[0;32m--> 145\u001b[0;31m     \u001b[0mdistances\u001b[0m \u001b[0;34m=\u001b[0m \u001b[0;34m[\u001b[0m\u001b[0;34m]\u001b[0m\u001b[0;34m\u001b[0m\u001b[0;34m\u001b[0m\u001b[0m\n\u001b[0m\u001b[1;32m    146\u001b[0m     \u001b[0mvisible\u001b[0m \u001b[0;34m=\u001b[0m \u001b[0;34m[\u001b[0m\u001b[0;34m]\u001b[0m\u001b[0;34m\u001b[0m\u001b[0;34m\u001b[0m\u001b[0m\n\u001b[1;32m    147\u001b[0m     \u001b[0;32mfor\u001b[0m \u001b[0mgt_sample\u001b[0m \u001b[0;32min\u001b[0m \u001b[0mgt\u001b[0m\u001b[0;34m[\u001b[0m\u001b[0;34m'annotations'\u001b[0m\u001b[0;34m]\u001b[0m\u001b[0;34m:\u001b[0m\u001b[0;34m\u001b[0m\u001b[0;34m\u001b[0m\u001b[0m\n",
      "\u001b[0;32m~/PycharmProjects/mybabybrain-model/qol.py\u001b[0m in \u001b[0;36mcompute_error\u001b[0;34m(dt_path, gt_path, normalize, threshold)\u001b[0m\n\u001b[1;32m    143\u001b[0m \u001b[0;34m\u001b[0m\u001b[0m\n\u001b[1;32m    144\u001b[0m     \u001b[0;31m# get keypoints as np array from dt and gt and calculate distances\u001b[0m\u001b[0;34m\u001b[0m\u001b[0;34m\u001b[0m\u001b[0;34m\u001b[0m\u001b[0m\n\u001b[0;32m--> 145\u001b[0;31m     \u001b[0mdistances\u001b[0m \u001b[0;34m=\u001b[0m \u001b[0;34m[\u001b[0m\u001b[0;34m]\u001b[0m\u001b[0;34m\u001b[0m\u001b[0;34m\u001b[0m\u001b[0m\n\u001b[0m\u001b[1;32m    146\u001b[0m     \u001b[0mvisible\u001b[0m \u001b[0;34m=\u001b[0m \u001b[0;34m[\u001b[0m\u001b[0;34m]\u001b[0m\u001b[0;34m\u001b[0m\u001b[0;34m\u001b[0m\u001b[0m\n\u001b[1;32m    147\u001b[0m     \u001b[0;32mfor\u001b[0m \u001b[0mgt_sample\u001b[0m \u001b[0;32min\u001b[0m \u001b[0mgt\u001b[0m\u001b[0;34m[\u001b[0m\u001b[0;34m'annotations'\u001b[0m\u001b[0;34m]\u001b[0m\u001b[0;34m:\u001b[0m\u001b[0;34m\u001b[0m\u001b[0;34m\u001b[0m\u001b[0m\n",
      "\u001b[0;32m~/.local/share/JetBrains/Toolbox/apps/PyCharm-P/ch-0/193.3519.27/helpers/pydev/_pydevd_bundle/pydevd_frame.py\u001b[0m in \u001b[0;36mtrace_dispatch\u001b[0;34m(self, frame, event, arg)\u001b[0m\n\u001b[1;32m    675\u001b[0m                 \u001b[0;31m# if thread has a suspend flag, we suspend with a busy wait\u001b[0m\u001b[0;34m\u001b[0m\u001b[0;34m\u001b[0m\u001b[0;34m\u001b[0m\u001b[0m\n\u001b[1;32m    676\u001b[0m                 \u001b[0;32mif\u001b[0m \u001b[0minfo\u001b[0m\u001b[0;34m.\u001b[0m\u001b[0mpydev_state\u001b[0m \u001b[0;34m==\u001b[0m \u001b[0mSTATE_SUSPEND\u001b[0m\u001b[0;34m:\u001b[0m\u001b[0;34m\u001b[0m\u001b[0;34m\u001b[0m\u001b[0m\n\u001b[0;32m--> 677\u001b[0;31m                     \u001b[0mself\u001b[0m\u001b[0;34m.\u001b[0m\u001b[0mdo_wait_suspend\u001b[0m\u001b[0;34m(\u001b[0m\u001b[0mthread\u001b[0m\u001b[0;34m,\u001b[0m \u001b[0mframe\u001b[0m\u001b[0;34m,\u001b[0m \u001b[0mevent\u001b[0m\u001b[0;34m,\u001b[0m \u001b[0marg\u001b[0m\u001b[0;34m)\u001b[0m\u001b[0;34m\u001b[0m\u001b[0;34m\u001b[0m\u001b[0m\n\u001b[0m\u001b[1;32m    678\u001b[0m                     \u001b[0;31m# No need to reset frame.f_trace to keep the same trace function.\u001b[0m\u001b[0;34m\u001b[0m\u001b[0;34m\u001b[0m\u001b[0;34m\u001b[0m\u001b[0m\n\u001b[1;32m    679\u001b[0m                     \u001b[0;32mreturn\u001b[0m \u001b[0mself\u001b[0m\u001b[0;34m.\u001b[0m\u001b[0mtrace_dispatch\u001b[0m\u001b[0;34m\u001b[0m\u001b[0;34m\u001b[0m\u001b[0m\n",
      "\u001b[0;32m~/.local/share/JetBrains/Toolbox/apps/PyCharm-P/ch-0/193.3519.27/helpers/pydev/_pydevd_bundle/pydevd_frame.py\u001b[0m in \u001b[0;36mdo_wait_suspend\u001b[0;34m(self, *args, **kwargs)\u001b[0m\n\u001b[1;32m    132\u001b[0m \u001b[0;34m\u001b[0m\u001b[0m\n\u001b[1;32m    133\u001b[0m     \u001b[0;32mdef\u001b[0m \u001b[0mdo_wait_suspend\u001b[0m\u001b[0;34m(\u001b[0m\u001b[0mself\u001b[0m\u001b[0;34m,\u001b[0m \u001b[0;34m*\u001b[0m\u001b[0margs\u001b[0m\u001b[0;34m,\u001b[0m \u001b[0;34m**\u001b[0m\u001b[0mkwargs\u001b[0m\u001b[0;34m)\u001b[0m\u001b[0;34m:\u001b[0m\u001b[0;34m\u001b[0m\u001b[0;34m\u001b[0m\u001b[0m\n\u001b[0;32m--> 134\u001b[0;31m         \u001b[0mself\u001b[0m\u001b[0;34m.\u001b[0m\u001b[0m_args\u001b[0m\u001b[0;34m[\u001b[0m\u001b[0;36m0\u001b[0m\u001b[0;34m]\u001b[0m\u001b[0;34m.\u001b[0m\u001b[0mdo_wait_suspend\u001b[0m\u001b[0;34m(\u001b[0m\u001b[0;34m*\u001b[0m\u001b[0margs\u001b[0m\u001b[0;34m,\u001b[0m \u001b[0;34m**\u001b[0m\u001b[0mkwargs\u001b[0m\u001b[0;34m)\u001b[0m\u001b[0;34m\u001b[0m\u001b[0;34m\u001b[0m\u001b[0m\n\u001b[0m\u001b[1;32m    135\u001b[0m \u001b[0;34m\u001b[0m\u001b[0m\n\u001b[1;32m    136\u001b[0m     \u001b[0;31m# IFDEF CYTHON\u001b[0m\u001b[0;34m\u001b[0m\u001b[0;34m\u001b[0m\u001b[0;34m\u001b[0m\u001b[0m\n",
      "\u001b[0;32m~/.local/share/JetBrains/Toolbox/apps/PyCharm-P/ch-0/193.3519.27/helpers/pydev/pydevd.py\u001b[0m in \u001b[0;36mdo_wait_suspend\u001b[0;34m(self, thread, frame, event, arg, send_suspend_message, is_unhandled_exception)\u001b[0m\n\u001b[1;32m   1078\u001b[0m \u001b[0;34m\u001b[0m\u001b[0m\n\u001b[1;32m   1079\u001b[0m         \u001b[0;32mwith\u001b[0m \u001b[0mself\u001b[0m\u001b[0;34m.\u001b[0m\u001b[0m_threads_suspended_single_notification\u001b[0m\u001b[0;34m.\u001b[0m\u001b[0mnotify_thread_suspended\u001b[0m\u001b[0;34m(\u001b[0m\u001b[0mthread_id\u001b[0m\u001b[0;34m,\u001b[0m \u001b[0mstop_reason\u001b[0m\u001b[0;34m)\u001b[0m\u001b[0;34m:\u001b[0m\u001b[0;34m\u001b[0m\u001b[0;34m\u001b[0m\u001b[0m\n\u001b[0;32m-> 1080\u001b[0;31m             \u001b[0mself\u001b[0m\u001b[0;34m.\u001b[0m\u001b[0m_do_wait_suspend\u001b[0m\u001b[0;34m(\u001b[0m\u001b[0mthread\u001b[0m\u001b[0;34m,\u001b[0m \u001b[0mframe\u001b[0m\u001b[0;34m,\u001b[0m \u001b[0mevent\u001b[0m\u001b[0;34m,\u001b[0m \u001b[0marg\u001b[0m\u001b[0;34m,\u001b[0m \u001b[0msuspend_type\u001b[0m\u001b[0;34m,\u001b[0m \u001b[0mfrom_this_thread\u001b[0m\u001b[0;34m)\u001b[0m\u001b[0;34m\u001b[0m\u001b[0;34m\u001b[0m\u001b[0m\n\u001b[0m\u001b[1;32m   1081\u001b[0m \u001b[0;34m\u001b[0m\u001b[0m\n\u001b[1;32m   1082\u001b[0m     \u001b[0;32mdef\u001b[0m \u001b[0m_do_wait_suspend\u001b[0m\u001b[0;34m(\u001b[0m\u001b[0mself\u001b[0m\u001b[0;34m,\u001b[0m \u001b[0mthread\u001b[0m\u001b[0;34m,\u001b[0m \u001b[0mframe\u001b[0m\u001b[0;34m,\u001b[0m \u001b[0mevent\u001b[0m\u001b[0;34m,\u001b[0m \u001b[0marg\u001b[0m\u001b[0;34m,\u001b[0m \u001b[0msuspend_type\u001b[0m\u001b[0;34m,\u001b[0m \u001b[0mfrom_this_thread\u001b[0m\u001b[0;34m)\u001b[0m\u001b[0;34m:\u001b[0m\u001b[0;34m\u001b[0m\u001b[0;34m\u001b[0m\u001b[0m\n",
      "\u001b[0;32m~/.local/share/JetBrains/Toolbox/apps/PyCharm-P/ch-0/193.3519.27/helpers/pydev/pydevd.py\u001b[0m in \u001b[0;36m_do_wait_suspend\u001b[0;34m(self, thread, frame, event, arg, suspend_type, from_this_thread)\u001b[0m\n\u001b[1;32m   1093\u001b[0m \u001b[0;34m\u001b[0m\u001b[0m\n\u001b[1;32m   1094\u001b[0m                 \u001b[0mself\u001b[0m\u001b[0;34m.\u001b[0m\u001b[0mprocess_internal_commands\u001b[0m\u001b[0;34m(\u001b[0m\u001b[0;34m)\u001b[0m\u001b[0;34m\u001b[0m\u001b[0;34m\u001b[0m\u001b[0m\n\u001b[0;32m-> 1095\u001b[0;31m                 \u001b[0mtime\u001b[0m\u001b[0;34m.\u001b[0m\u001b[0msleep\u001b[0m\u001b[0;34m(\u001b[0m\u001b[0;36m0.01\u001b[0m\u001b[0;34m)\u001b[0m\u001b[0;34m\u001b[0m\u001b[0;34m\u001b[0m\u001b[0m\n\u001b[0m\u001b[1;32m   1096\u001b[0m \u001b[0;34m\u001b[0m\u001b[0m\n\u001b[1;32m   1097\u001b[0m         \u001b[0mself\u001b[0m\u001b[0;34m.\u001b[0m\u001b[0mcancel_async_evaluation\u001b[0m\u001b[0;34m(\u001b[0m\u001b[0mget_current_thread_id\u001b[0m\u001b[0;34m(\u001b[0m\u001b[0mthread\u001b[0m\u001b[0;34m)\u001b[0m\u001b[0;34m,\u001b[0m \u001b[0mstr\u001b[0m\u001b[0;34m(\u001b[0m\u001b[0mid\u001b[0m\u001b[0;34m(\u001b[0m\u001b[0mframe\u001b[0m\u001b[0;34m)\u001b[0m\u001b[0;34m)\u001b[0m\u001b[0;34m)\u001b[0m\u001b[0;34m\u001b[0m\u001b[0;34m\u001b[0m\u001b[0m\n",
      "\u001b[0;31mKeyboardInterrupt\u001b[0m: "
     ],
     "ename": "KeyboardInterrupt",
     "evalue": "",
     "output_type": "error"
    }
   ],
   "source": [
    "from qol import compute_error\n",
    "import seaborn as sns\n",
    "import matplotlib.pyplot as plt\n",
    "import numpy as np\n",
    "import pandas as pd\n",
    "\n",
    "\n",
    "# calculate curve performance\n",
    "distances_normal, visible_normal = \\\n",
    "    compute_error(output_json, annotation_folder + normal_set[0] + suffix +'_coco.json', normalize='body')\n",
    "\n",
    "distances_abnormal, visible_abnormal = \\\n",
    "    compute_error(output_json, annotation_folder + abnormal_set[0] + suffix + '_coco.json', normalize='body')\n",
    "\n",
    "# for each detection threshold count the data that falls in, for each joint\n",
    "threshold = np.array(range(101))/100\n",
    "threshold_total_count_normal = []\n",
    "threshold_total_count_abnormal = []\n",
    "for a_threshold in threshold:  # count for each threshold\n",
    "    threshold_count_normal = np.zeros(distances_normal[0].shape)\n",
    "    threshold_count_abnormal = np.zeros(distances_abnormal[0].shape)\n",
    "    for a_sample_distance in distances_normal:  # accumulate from all samples\n",
    "        for index, a_joint_distance in enumerate(a_sample_distance):  # for each joint\n",
    "            if a_joint_distance <= a_threshold:\n",
    "                threshold_count_normal[index] += 1\n",
    "    for a_sample_distance in distances_abnormal:  # accumulate from all samples\n",
    "        for index, a_joint_distance in enumerate(a_sample_distance):  # for each joint\n",
    "            if a_joint_distance <= a_threshold:\n",
    "                threshold_count_abnormal[index] += 1\n",
    "    threshold_total_count_normal.append(threshold_count_normal)\n",
    "    threshold_total_count_abnormal.append(threshold_count_abnormal)\n",
    "\n",
    "# finally normalize by quantity\n",
    "threshold_total_count_normal = [count_sample / len(normal_frames[0]) \n",
    "                                for count_sample in threshold_total_count_normal]\n",
    "threshold_total_count_abnormal = [count_sample / len(abnormal_frames[0]) \n",
    "                                  for count_sample in threshold_total_count_abnormal]\n",
    "# save in a data frame so it's easier to plot\n",
    "data = []\n",
    "left_mask = [0, 1, 5, 6, 7, 11, 12, 13, 15, 17]\n",
    "right_mask = [0, 1, 2, 3, 4, 8, 9, 10, 14, 16]\n",
    "graph_type = 'class'\n",
    "mask_type = 'left'\n",
    "for threshold_index, a_threshold in enumerate(threshold_total_count_normal):\n",
    "    for joint_index, a_value in enumerate(a_threshold):\n",
    "        if joint_index not in right_mask and graph_type == 'joint' and mask_type == 'right':\n",
    "            continue\n",
    "        if joint_index not in left_mask and graph_type == 'joint' and mask_type == 'left':\n",
    "            continue\n",
    "        data.append([threshold[threshold_index], joint_index, a_value, 'normal'])\n",
    "for threshold_index, a_threshold in enumerate(threshold_total_count_abnormal):\n",
    "    for joint_index, a_value in enumerate(a_threshold):\n",
    "        if joint_index not in right_mask and graph_type == 'joint' and mask_type == 'right':\n",
    "            continue\n",
    "        if joint_index not in left_mask and graph_type == 'joint' and mask_type == 'left':\n",
    "            continue\n",
    "        data.append([threshold[threshold_index], joint_index, a_value, 'abnormal'])\n",
    "df = pd.DataFrame(data=data, columns=['threshold', 'joint', 'ratio', 'class'])\n",
    "sns.set(\"paper\")\n",
    "ax = sns.lineplot(x='threshold', y='ratio', data=df, hue=graph_type, palette='Paired')  # use hue=joint or class to change fig\n",
    "plt.tight_layout()\n",
    "if graph_type == 'joint':  # make custom legend\n",
    "    joint_names = ['Nose', 'Neck', 'Shoulder', 'Elbow', 'Wrist', 'Hip', 'Knee', 'Ankle', 'Eye', 'Ear']\n",
    "    plt.legend(title='Joint', labels=joint_names, loc='lower right', fontsize='x-small')\n",
    "plt.savefig('/home/harrisonford/Desktop/temp.png', dpi=1000)\n",
    "plt.show()"
   ],
   "metadata": {
    "collapsed": false,
    "pycharm": {
     "name": "#%%\n",
     "is_executing": false
    }
   }
  },
  {
   "cell_type": "markdown",
   "source": [
    "## Calculate Confidence as Class Features\n",
    "A fast way of classifying movement is by using confidence value outputs as some sort of\n",
    "Transfer Learning approach, therefore we explore confidence values through different class\n",
    "separations."
   ],
   "metadata": {
    "collapsed": false,
    "pycharm": {
     "name": "#%% md\n"
    }
   }
  },
  {
   "cell_type": "code",
   "execution_count": null,
   "outputs": [],
   "source": [
    "import pandas as pd\n",
    "import matplotlib.pyplot as plt\n",
    "import numpy as np\n",
    "\n",
    "\n",
    "# read normal and abnormal confidence data\n",
    "normal_path = './'\n",
    "normal_df = pd.read_csv(normal_path)\n",
    "abnormal_path = './'\n",
    "abnormal_df = pd.read_csv(abnormal_path)\n",
    "\n",
    "# plot bars normal vs abnormal\n",
    "plt.figure()\n",
    "wid = 0.25\n",
    "plt.bar(np.arange(normal_df))  # TODO: Continue!"
   ],
   "metadata": {
    "collapsed": false,
    "pycharm": {
     "name": "#%%\n"
    }
   }
  }
 ],
 "metadata": {
  "kernelspec": {
   "display_name": "Python 3",
   "language": "python",
   "name": "python3"
  },
  "language_info": {
   "codemirror_mode": {
    "name": "ipython",
    "version": 2
   },
   "file_extension": ".py",
   "mimetype": "text/x-python",
   "name": "python",
   "nbconvert_exporter": "python",
   "pygments_lexer": "ipython2",
   "version": "2.7.6"
  },
  "pycharm": {
   "stem_cell": {
    "cell_type": "raw",
    "source": [],
    "metadata": {
     "collapsed": false
    }
   }
  }
 },
 "nbformat": 4,
 "nbformat_minor": 0
}