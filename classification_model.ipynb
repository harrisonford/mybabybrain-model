{
 "cells": [
  {
   "cell_type": "markdown",
   "metadata": {
    "collapsed": true,
    "pycharm": {
     "name": "#%% md\n"
    }
   },
   "source": [
    "## Loading and preparing JSON data\n",
    "\n",
    "We load jsons an save for each classified window. We'll save a big file with subject \n",
    "name, frame; And later we'll add subject class and frame class. \n",
    "Where subject class is overall normal or abnormal, and frame class is tagged as \n",
    "if used for study (GM)."
   ]
  },
  {
   "cell_type": "code",
   "execution_count": 10,
   "outputs": [],
   "source": [
    "import json\n",
    "import os\n",
    "import pandas as pd\n",
    "\n",
    "\n",
    "data = []\n",
    "data_folder = '/home/harrisonford/Documents/babybrain/confidences/'\n",
    "data_files = sorted(os.listdir(data_folder))\n",
    "for a_file in data_files:\n",
    "    with open(data_folder + a_file) as json_file:\n",
    "        single_data = json.load(json_file)\n",
    "        my_frames = single_data['processed_frames']\n",
    "        my_confidences = single_data['confidences']\n",
    "        for frame_value, confidence_value in zip(my_frames, my_confidences):\n",
    "            data.append([a_file[:-5], frame_value, confidence_value])\n",
    "\n",
    "# create a DataFrame\n",
    "df = pd.DataFrame(data, columns=['subject', 'frame', 'confidences'])\n",
    "\n",
    "# save it as csv\n",
    "df.to_csv('confidences.csv')"
   ],
   "metadata": {
    "collapsed": false,
    "pycharm": {
     "name": "#%%\n",
     "is_executing": false
    }
   }
  },
  {
   "cell_type": "markdown",
   "source": [
    "## Loading label data\n",
    "\n",
    "We load the excel files with specialist classification, we'll add to prior data two \n",
    "columns containing subject class (1=normal, 0=abnormal) and "
   ],
   "metadata": {
    "collapsed": false,
    "pycharm": {
     "name": "#%% md\n"
    }
   }
  },
  {
   "cell_type": "code",
   "execution_count": null,
   "outputs": [],
   "source": [
    "label_path = '/home/harrisonford/Documents/babybrain/SubjectTags.xlsx'"
   ],
   "metadata": {
    "collapsed": false,
    "pycharm": {
     "name": "#%%\n"
    }
   }
  }
 ],
 "metadata": {
  "kernelspec": {
   "display_name": "Python 3",
   "language": "python",
   "name": "python3"
  },
  "language_info": {
   "codemirror_mode": {
    "name": "ipython",
    "version": 2
   },
   "file_extension": ".py",
   "mimetype": "text/x-python",
   "name": "python",
   "nbconvert_exporter": "python",
   "pygments_lexer": "ipython2",
   "version": "2.7.6"
  },
  "pycharm": {
   "stem_cell": {
    "cell_type": "raw",
    "source": [],
    "metadata": {
     "collapsed": false
    }
   }
  }
 },
 "nbformat": 4,
 "nbformat_minor": 0
}