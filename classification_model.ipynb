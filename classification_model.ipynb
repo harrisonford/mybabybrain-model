{
 "cells": [
  {
   "cell_type": "markdown",
   "metadata": {
    "collapsed": true,
    "pycharm": {
     "name": "#%% md\n"
    }
   },
   "source": [
    "## Loading and preparing JSON data\n",
    "\n",
    "We load jsons and save for each classified window. We'll save a big file with subject \n",
    "name, frame; And later we'll add subject class and frame class. \n",
    "Where subject class is overall normal or abnormal, and frame class is tagged as \n",
    "if used for study (GM)."
   ]
  },
  {
   "cell_type": "code",
   "execution_count": 10,
   "outputs": [],
   "source": [
    "import json\n",
    "import os\n",
    "import pandas as pd\n",
    "\n",
    "\n",
    "data = []\n",
    "data_folder = '/home/harrisonford/Documents/babybrain/confidences/'\n",
    "data_files = sorted(os.listdir(data_folder))\n",
    "for a_file in data_files:\n",
    "    with open(data_folder + a_file) as json_file:\n",
    "        single_data = json.load(json_file)\n",
    "        my_frames = single_data['processed_frames']\n",
    "        my_confidences = single_data['confidences']\n",
    "        for frame_value, confidence_value in zip(my_frames, my_confidences):\n",
    "            for index, a_confidence in enumerate(confidence_value):\n",
    "                data.append([a_file[:-5], frame_value, a_confidence, index])\n",
    "\n",
    "# create a DataFrame\n",
    "columns = ['subject', 'frame', 'confidence', 'joint_id'] \n",
    "df = pd.DataFrame(data, columns=columns)\n",
    "\n",
    "# save it as csv\n",
    "df.to_csv('confidences.csv')"
   ],
   "metadata": {
    "collapsed": false,
    "pycharm": {
     "name": "#%%\n",
     "is_executing": false
    }
   }
  },
  {
   "cell_type": "markdown",
   "source": [
    "## Loading label data\n",
    "\n",
    "We load the excel files with specialist classification, we'll add to prior data two \n",
    "columns containing subject class (1=normal, 0=abnormal) and frame class (1 is used as\n",
    "General Movement and 0 if its not used as subject classification)"
   ],
   "metadata": {
    "collapsed": false,
    "pycharm": {
     "name": "#%% md\n"
    }
   }
  },
  {
   "cell_type": "code",
   "execution_count": 9,
   "outputs": [],
   "source": [
    "import pandas as pd\n",
    "\n",
    "\n",
    "# we make a small function to compare frame times at input in seconds with times in \n",
    "# label in date time format, gives true if inside dates/\n",
    "# TODO: I need to finish this function\n",
    "def dates_to_seconds(some_date):\n",
    "    s = int(some_date.split(':'))\n",
    "    return s[0] + 60*s[1] + 3600* s[2]\n",
    "\n",
    "# a small function to check if a frame time is inside a tag stamp\n",
    "def in_window(frame_sec, time_start, time_end):\n",
    "    return dates_to_seconds(time_start) <= frame_sec <= dates_to_seconds(time_end)\n",
    "\n",
    "\n",
    "# first we import from label files\n",
    "label_path = 'D:/babybrain/SubjectTags.xlsx'\n",
    "labels = pd.read_excel(label_path)\n",
    "\n",
    "names = labels['Sujeto']\n",
    "tag = labels['Normal']\n",
    "start = labels['T0']\n",
    "end = labels['T1']\n",
    "\n",
    "# now we import the processed data to add the columns\n",
    "input_path = 'D:/babybrain/confidences.csv'\n",
    "inputs = pd.read_csv(input_path)\n",
    "\n",
    "# for each value in inputs we find the subject and check if frame inside a classification\n",
    "input_names = inputs['subject']\n",
    "frames = inputs['frame']\n",
    "is_gm = []\n",
    "is_normal = []\n",
    "for index, an_input in enumerate(input_names):\n",
    "    # search for subject index in the label data and then get all his intervals\n",
    "    interval_indexes = [i for i, label in enumerate(names) if an_input in label]\n",
    "    # for each interval we check frame time is inside a label window\n",
    "    if any([in_window(frames[index], start[subindex], end[subindex]) for subindex in interval_indexes]):\n",
    "        is_gm.append(1)\n",
    "        # we can append any of the intervals tag as normal or abnormal, its the same for all\n",
    "        is_normal.append(tag[interval_indexes[0]]=='NORMAL')\n",
    "    else:\n",
    "        is_gm.append(0)\n",
    "        is_normal.append(None)\n",
    "    \n",
    "# save new columns into Data Frame\n",
    "inputs['is_gm'] = is_gm\n",
    "inputs['is_normal'] = is_normal\n",
    "inputs.to_csv(input_path)"
   ],
   "metadata": {
    "collapsed": false,
    "pycharm": {
     "name": "#%%\n",
     "is_executing": false
    }
   }
  },
  {
   "cell_type": "markdown",
   "source": [
    "## Using new labels and data exploration\n",
    "We make an average value of joint confidence per class to check if at clear eye we\n",
    "can tell a difference in values, even if we can't we can use effectively a random\n",
    "forest classifier."
   ],
   "metadata": {
    "collapsed": false,
    "pycharm": {
     "name": "#%% md\n"
    }
   }
  },
  {
   "cell_type": "code",
   "execution_count": null,
   "outputs": [],
   "source": [
    "import pandas as pd\n",
    "import seaborn as sns\n",
    "import matplotlib.pyplot as plt\n",
    "\n",
    "# get the data frame\n",
    "input_path = 'D:/babybrain/confidences.csv'\n",
    "data = pd.read_csv(input_path)\n",
    "\n",
    "# create a simple graph with seaborn\n",
    "graph = sns.catplot(x='joint_id', y='confidence', hue='is_GM', data=data)\n",
    "plt.show()"
   ],
   "metadata": {
    "collapsed": false,
    "pycharm": {
     "name": "#%% \n"
    }
   }
  },
  {
   "cell_type": "markdown",
   "source": [
    "## Training Random Forest Classifier\n",
    "Now we use data to train a random forest classifier for either GM or normal.\n"
   ],
   "metadata": {
    "collapsed": false,
    "pycharm": {
     "name": "#%% md\n"
    }
   }
  },
  {
   "cell_type": "code",
   "execution_count": null,
   "outputs": [],
   "source": [
    "import pandas as pd\n",
    "import sklearn as sk\n",
    "\n",
    "# get the data frame\n",
    "input_path = 'D:/babybrain/confidences.csv'\n",
    "data = pd.read_csv(input_path)\n",
    "\n",
    "classifying = 'is_GM'\n",
    "\n",
    "# prepare the data to fit in the model\n",
    "X = data.groupby('joint_id')\n",
    "y = data[classifying]\n",
    "model = RandomForest()\n",
    "model.fit(X, y)"
   ],
   "metadata": {
    "collapsed": false,
    "pycharm": {
     "name": "#%%\n"
    }
   }
  },
  {
   "cell_type": "markdown",
   "source": [
    "## Checking the Classifier accuracy\n",
    "\n",
    "We can use sklearn's internal library to check a ROC curve for accuracy."
   ],
   "metadata": {
    "collapsed": false,
    "pycharm": {
     "name": "#%% md\n"
    }
   }
  },
  {
   "cell_type": "code",
   "execution_count": null,
   "outputs": [],
   "source": [
    "# get the data frame\n",
    "input_path = 'D:/babybrain/confidences.csv'\n",
    "data = pd.read_csv(input_path)\n",
    "print(data)\n"
   ],
   "metadata": {
    "collapsed": false,
    "pycharm": {
     "name": "#%%\n"
    }
   }
  }
 ],
 "metadata": {
  "kernelspec": {
   "display_name": "Python 3",
   "language": "python",
   "name": "python3"
  },
  "language_info": {
   "codemirror_mode": {
    "name": "ipython",
    "version": 2
   },
   "file_extension": ".py",
   "mimetype": "text/x-python",
   "name": "python",
   "nbconvert_exporter": "python",
   "pygments_lexer": "ipython2",
   "version": "2.7.6"
  },
  "pycharm": {
   "stem_cell": {
    "cell_type": "raw",
    "source": [],
    "metadata": {
     "collapsed": false
    }
   }
  }
 },
 "nbformat": 4,
 "nbformat_minor": 0
}